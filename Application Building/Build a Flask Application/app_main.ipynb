{
  "nbformat": 4,
  "nbformat_minor": 0,
  "metadata": {
    "colab": {
      "provenance": []
    },
    "kernelspec": {
      "name": "python3",
      "display_name": "Python 3"
    },
    "language_info": {
      "name": "python"
    }
  },
  "cells": [
    {
      "cell_type": "code",
      "source": [
        "import cv2\n",
        "\n",
        "video = cv2.VideoCapture(0)\n",
        "\n",
        "while True:\n",
        "\tret, frame = video.read()\n",
        "\tcv2.imshow(\"Frame\", frame)\n",
        "\tk = cv2.waitKey(1)\n",
        "\tif k == ord('q'):\n",
        "\t\tbreak\n",
        "\n",
        "video.release()\n",
        "cv2.destroyAllWindows()"
      ],
      "metadata": {
        "id": "Qw-p2ud6Ef7o"
      },
      "execution_count": null,
      "outputs": []
    }
  ]
}